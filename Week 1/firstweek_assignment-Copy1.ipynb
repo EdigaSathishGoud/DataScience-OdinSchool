{
 "cells": [
  {
   "cell_type": "code",
   "execution_count": 34,
   "id": "67a6e93d",
   "metadata": {},
   "outputs": [
    {
     "name": "stdout",
     "output_type": "stream",
     "text": [
      "7\n",
      "7 is a prime number\n"
     ]
    }
   ],
   "source": [
    "x=int(input())\n",
    "count=0\n",
    "for i in range(1,x+1):\n",
    "    if x % i==0:\n",
    "        count+=1\n",
    "if x==1:\n",
    "    print(x, \"is neither prime nor composite number\")\n",
    "elif x<0:\n",
    "    print(x, \"is a negative number.Please give positive inputs\")\n",
    "elif x==0:\n",
    "    print(\"please enter input greater than 0\")\n",
    "elif count==2:\n",
    "    print(x ,\"is a prime number\")\n",
    "else:\n",
    "    print(x ,\"is not a prime number\")"
   ]
  },
  {
   "cell_type": "code",
   "execution_count": null,
   "id": "719b7f5b",
   "metadata": {},
   "outputs": [],
   "source": []
  }
 ],
 "metadata": {
  "kernelspec": {
   "display_name": "Python 3",
   "language": "python",
   "name": "python3"
  },
  "language_info": {
   "codemirror_mode": {
    "name": "ipython",
    "version": 3
   },
   "file_extension": ".py",
   "mimetype": "text/x-python",
   "name": "python",
   "nbconvert_exporter": "python",
   "pygments_lexer": "ipython3",
   "version": "3.8.8"
  }
 },
 "nbformat": 4,
 "nbformat_minor": 5
}
